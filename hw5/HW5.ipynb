{
 "cells": [
  {
   "cell_type": "markdown",
   "metadata": {},
   "source": [
    "## Matt Viteri & Yu Mo"
   ]
  },
  {
   "cell_type": "markdown",
   "metadata": {},
   "source": [
    "## Problem 1\n",
    "\n",
    "This problem walks us through a problem discussed in detail in the Multi-level regression bookwritten  by  A.  Gelman  and  J.  Hill.   NYC  has  a  program  known  as  stop-and-frisk.   Relying  on  a60’s era ruling, the law allows an officer to search someone without arrest, and without probablecause,  if  the  officer  believes  s/he  might  be  in  danger  because  of  a  hidden  weapon.   Much  hasbeen  written  about  this,  as  it  has  come  under  significant  scrutiny  for  being  discriminative  andallowing (even encouraging) racial profiling.  You can read a summary of it at this Wikipedia page:https://en.wikipedia.org/wiki/Stop-and-frisk_in_New_York_City.The data you will download contain information about the number of traffic stops, reported perprecinct (75 total precincts), along with the ethnicity as reported by the police officer.  These datahave kept only three ethnicities:  white, black and hispanic.  The data set also has data on arrestrates in the previous year, broken down by four types of crimes; and the total population levels perprecinct per ethnic group."
   ]
  },
  {
   "cell_type": "code",
   "execution_count": 1,
   "metadata": {},
   "outputs": [],
   "source": [
    "import pandas as pd\n",
    "import numpy as np\n",
    "from statsmodels.genmod.generalized_linear_model import GLM\n",
    "import statsmodels.api as sm\n",
    "\n",
    "from patsy import dmatrices\n",
    "from sklearn.preprocessing import StandardScaler"
   ]
  },
  {
   "cell_type": "markdown",
   "metadata": {},
   "source": [
    "### 1\\. Download and load the data in the file NYC_stop_and_frisk.dat, uploaded to Canvas.\n",
    "\n",
    "**Skiprows (below) will ignore the header information in the \"stop_and_frisk\" file. That information is repeated here:**\n",
    "\n",
    "stop and frisk data (with noise added to protect confidentiality)\n",
    "\n",
    "* precincts are numbered 1-75\n",
    "* ethnicity 1=black, 2=hispanic, 3=white\n",
    "* crime type 1=violent, 2=weapons, 3=property, 4=drug"
   ]
  },
  {
   "cell_type": "code",
   "execution_count": 2,
   "metadata": {},
   "outputs": [
    {
     "data": {
      "text/html": [
       "<div>\n",
       "<style scoped>\n",
       "    .dataframe tbody tr th:only-of-type {\n",
       "        vertical-align: middle;\n",
       "    }\n",
       "\n",
       "    .dataframe tbody tr th {\n",
       "        vertical-align: top;\n",
       "    }\n",
       "\n",
       "    .dataframe thead th {\n",
       "        text-align: right;\n",
       "    }\n",
       "</style>\n",
       "<table border=\"1\" class=\"dataframe\">\n",
       "  <thead>\n",
       "    <tr style=\"text-align: right;\">\n",
       "      <th></th>\n",
       "      <th>stops</th>\n",
       "      <th>pop</th>\n",
       "      <th>past_arrests</th>\n",
       "      <th>precint</th>\n",
       "      <th>eth</th>\n",
       "      <th>crime</th>\n",
       "    </tr>\n",
       "  </thead>\n",
       "  <tbody>\n",
       "    <tr>\n",
       "      <th>0</th>\n",
       "      <td>75</td>\n",
       "      <td>1720</td>\n",
       "      <td>191</td>\n",
       "      <td>1</td>\n",
       "      <td>1</td>\n",
       "      <td>1</td>\n",
       "    </tr>\n",
       "    <tr>\n",
       "      <th>1</th>\n",
       "      <td>36</td>\n",
       "      <td>1720</td>\n",
       "      <td>57</td>\n",
       "      <td>1</td>\n",
       "      <td>1</td>\n",
       "      <td>2</td>\n",
       "    </tr>\n",
       "    <tr>\n",
       "      <th>2</th>\n",
       "      <td>74</td>\n",
       "      <td>1720</td>\n",
       "      <td>599</td>\n",
       "      <td>1</td>\n",
       "      <td>1</td>\n",
       "      <td>3</td>\n",
       "    </tr>\n",
       "    <tr>\n",
       "      <th>3</th>\n",
       "      <td>17</td>\n",
       "      <td>1720</td>\n",
       "      <td>133</td>\n",
       "      <td>1</td>\n",
       "      <td>1</td>\n",
       "      <td>4</td>\n",
       "    </tr>\n",
       "    <tr>\n",
       "      <th>4</th>\n",
       "      <td>37</td>\n",
       "      <td>1368</td>\n",
       "      <td>62</td>\n",
       "      <td>1</td>\n",
       "      <td>2</td>\n",
       "      <td>1</td>\n",
       "    </tr>\n",
       "  </tbody>\n",
       "</table>\n",
       "</div>"
      ],
      "text/plain": [
       "   stops   pop  past_arrests  precint  eth  crime\n",
       "0     75  1720           191        1    1      1\n",
       "1     36  1720            57        1    1      2\n",
       "2     74  1720           599        1    1      3\n",
       "3     17  1720           133        1    1      4\n",
       "4     37  1368            62        1    2      1"
      ]
     },
     "execution_count": 2,
     "metadata": {},
     "output_type": "execute_result"
    }
   ],
   "source": [
    "df = pd.read_csv('NYC_stop_and_frisk.dat', skiprows=6, sep=' ')\n",
    "df.columns = ['stops', 'pop', 'past_arrests', 'precint', 'eth', 'crime']\n",
    "df.head()"
   ]
  },
  {
   "cell_type": "markdown",
   "metadata": {},
   "source": [
    "### 2\\. What fraction of the total stops correspond to “white/back/hispanic”? What fraction of thepopulation corresponds to “white/black/hispanic”?"
   ]
  },
  {
   "cell_type": "code",
   "execution_count": 3,
   "metadata": {},
   "outputs": [
    {
     "name": "stdout",
     "output_type": "stream",
     "text": [
      "Stop percentages:\n",
      "\n",
      "53.13 percent of the stops correspond to black\n",
      "33.95 percent of the stops correspond to hispanic\n",
      "12.92 percent of the stops correspond to white\n"
     ]
    }
   ],
   "source": [
    "print('Stop percentages:\\n')\n",
    "\n",
    "eth = {\n",
    "    1: 'black',\n",
    "    2: 'hispanic',\n",
    "    3: 'white'\n",
    "}\n",
    "\n",
    "totalStops = df.stops.sum()\n",
    "\n",
    "for k, v in eth.items():\n",
    "    perc = round((df[df.eth == k].stops.sum() / totalStops) * 100, 2)\n",
    "    print('{} percent of the stops correspond to {}'.format(perc, v))"
   ]
  },
  {
   "cell_type": "code",
   "execution_count": 4,
   "metadata": {},
   "outputs": [
    {
     "name": "stdout",
     "output_type": "stream",
     "text": [
      "Population percentages:\n",
      "\n",
      "27.55 percent of the population correspond to black\n",
      "25.57 percent of the population correspond to hispanic\n",
      "46.88 percent of the population correspond to white\n"
     ]
    }
   ],
   "source": [
    "print('Population percentages:\\n')\n",
    "\n",
    "totalPop = df['pop'].sum()\n",
    "\n",
    "for k, v in eth.items():\n",
    "    perc = round((df[df.eth == k]['pop'].sum() / totalPop) * 100, 2)\n",
    "    print('{} percent of the population correspond to {}'.format(perc, v))"
   ]
  },
  {
   "cell_type": "markdown",
   "metadata": {},
   "source": [
    "### 3\\. Use a Poisson regression to model the number of stops, controlling for ethnicity and usingthe number of past arrests as an exposure input."
   ]
  },
  {
   "cell_type": "code",
   "execution_count": 5,
   "metadata": {},
   "outputs": [
    {
     "data": {
      "text/html": [
       "<table class=\"simpletable\">\n",
       "<caption>Generalized Linear Model Regression Results</caption>\n",
       "<tr>\n",
       "  <th>Dep. Variable:</th>        <td>stops</td>      <th>  No. Observations:  </th>   <td>   900</td>  \n",
       "</tr>\n",
       "<tr>\n",
       "  <th>Model:</th>                 <td>GLM</td>       <th>  Df Residuals:      </th>   <td>   898</td>  \n",
       "</tr>\n",
       "<tr>\n",
       "  <th>Model Family:</th>        <td>Poisson</td>     <th>  Df Model:          </th>   <td>     1</td>  \n",
       "</tr>\n",
       "<tr>\n",
       "  <th>Link Function:</th>         <td>log</td>       <th>  Scale:             </th>  <td>  1.0000</td> \n",
       "</tr>\n",
       "<tr>\n",
       "  <th>Method:</th>               <td>IRLS</td>       <th>  Log-Likelihood:    </th>  <td> -86914.</td> \n",
       "</tr>\n",
       "<tr>\n",
       "  <th>Date:</th>           <td>Wed, 16 Oct 2019</td> <th>  Deviance:          </th> <td>1.6849e+05</td>\n",
       "</tr>\n",
       "<tr>\n",
       "  <th>Time:</th>               <td>22:57:24</td>     <th>  Pearson chi2:      </th>  <td>2.63e+05</td> \n",
       "</tr>\n",
       "<tr>\n",
       "  <th>No. Iterations:</th>         <td>6</td>        <th>  Covariance Type:   </th>  <td>nonrobust</td>\n",
       "</tr>\n",
       "</table>\n",
       "<table class=\"simpletable\">\n",
       "<tr>\n",
       "        <td></td>          <th>coef</th>     <th>std err</th>      <th>z</th>      <th>P>|z|</th>  <th>[0.025</th>    <th>0.975]</th>  \n",
       "</tr>\n",
       "<tr>\n",
       "  <th>Intercept</th>    <td>    4.7694</td> <td>    0.003</td> <td> 1396.175</td> <td> 0.000</td> <td>    4.763</td> <td>    4.776</td>\n",
       "</tr>\n",
       "<tr>\n",
       "  <th>past_arrests</th> <td>    0.0007</td> <td>    5e-06</td> <td>  132.295</td> <td> 0.000</td> <td>    0.001</td> <td>    0.001</td>\n",
       "</tr>\n",
       "</table>"
      ],
      "text/plain": [
       "<class 'statsmodels.iolib.summary.Summary'>\n",
       "\"\"\"\n",
       "                 Generalized Linear Model Regression Results                  \n",
       "==============================================================================\n",
       "Dep. Variable:                  stops   No. Observations:                  900\n",
       "Model:                            GLM   Df Residuals:                      898\n",
       "Model Family:                 Poisson   Df Model:                            1\n",
       "Link Function:                    log   Scale:                          1.0000\n",
       "Method:                          IRLS   Log-Likelihood:                -86914.\n",
       "Date:                Wed, 16 Oct 2019   Deviance:                   1.6849e+05\n",
       "Time:                        22:57:24   Pearson chi2:                 2.63e+05\n",
       "No. Iterations:                     6   Covariance Type:             nonrobust\n",
       "================================================================================\n",
       "                   coef    std err          z      P>|z|      [0.025      0.975]\n",
       "--------------------------------------------------------------------------------\n",
       "Intercept        4.7694      0.003   1396.175      0.000       4.763       4.776\n",
       "past_arrests     0.0007      5e-06    132.295      0.000       0.001       0.001\n",
       "================================================================================\n",
       "\"\"\""
      ]
     },
     "execution_count": 5,
     "metadata": {},
     "output_type": "execute_result"
    }
   ],
   "source": [
    "formula = 'stops ~ past_arrests'\n",
    "\n",
    "response, predictors = dmatrices(formula, df, return_type='dataframe')\n",
    "\n",
    "glm_pois = GLM(response, predictors, family=sm.families.Poisson())\n",
    "res = glm_pois.fit()\n",
    "res.summary()"
   ]
  },
  {
   "cell_type": "markdown",
   "metadata": {},
   "source": [
    "### 4\\. According to the output of your model, what fraction fewer or more stops does each ethnicityhave with respect to the others, in proportion to arrest rates of the previous year? Note thatyou can just pick a baseline ethnicity and just compare everything to that."
   ]
  },
  {
   "cell_type": "code",
   "execution_count": 6,
   "metadata": {},
   "outputs": [
    {
     "name": "stdout",
     "output_type": "stream",
     "text": [
      "black Poisson\n"
     ]
    },
    {
     "data": {
      "text/html": [
       "<table class=\"simpletable\">\n",
       "<caption>Generalized Linear Model Regression Results</caption>\n",
       "<tr>\n",
       "  <th>Dep. Variable:</th>        <td>stops</td>      <th>  No. Observations:  </th>  <td>   300</td>  \n",
       "</tr>\n",
       "<tr>\n",
       "  <th>Model:</th>                 <td>GLM</td>       <th>  Df Residuals:      </th>  <td>   298</td>  \n",
       "</tr>\n",
       "<tr>\n",
       "  <th>Model Family:</th>        <td>Poisson</td>     <th>  Df Model:          </th>  <td>     1</td>  \n",
       "</tr>\n",
       "<tr>\n",
       "  <th>Link Function:</th>         <td>log</td>       <th>  Scale:             </th> <td>  1.0000</td> \n",
       "</tr>\n",
       "<tr>\n",
       "  <th>Method:</th>               <td>IRLS</td>       <th>  Log-Likelihood:    </th> <td> -38294.</td> \n",
       "</tr>\n",
       "<tr>\n",
       "  <th>Date:</th>           <td>Wed, 16 Oct 2019</td> <th>  Deviance:          </th> <td>  74596.</td> \n",
       "</tr>\n",
       "<tr>\n",
       "  <th>Time:</th>               <td>22:57:56</td>     <th>  Pearson chi2:      </th> <td>1.08e+05</td> \n",
       "</tr>\n",
       "<tr>\n",
       "  <th>No. Iterations:</th>         <td>5</td>        <th>  Covariance Type:   </th> <td>nonrobust</td>\n",
       "</tr>\n",
       "</table>\n",
       "<table class=\"simpletable\">\n",
       "<tr>\n",
       "        <td></td>          <th>coef</th>     <th>std err</th>      <th>z</th>      <th>P>|z|</th>  <th>[0.025</th>    <th>0.975]</th>  \n",
       "</tr>\n",
       "<tr>\n",
       "  <th>Intercept</th>    <td>    2.6528</td> <td>    0.003</td> <td> 1053.232</td> <td> 0.000</td> <td>    2.648</td> <td>    2.658</td>\n",
       "</tr>\n",
       "<tr>\n",
       "  <th>past_arrests</th> <td>    0.0003</td> <td> 6.54e-06</td> <td>   47.832</td> <td> 0.000</td> <td>    0.000</td> <td>    0.000</td>\n",
       "</tr>\n",
       "<tr>\n",
       "  <th>eth</th>          <td>    2.6528</td> <td>    0.003</td> <td> 1053.232</td> <td> 0.000</td> <td>    2.648</td> <td>    2.658</td>\n",
       "</tr>\n",
       "</table>"
      ],
      "text/plain": [
       "<class 'statsmodels.iolib.summary.Summary'>\n",
       "\"\"\"\n",
       "                 Generalized Linear Model Regression Results                  \n",
       "==============================================================================\n",
       "Dep. Variable:                  stops   No. Observations:                  300\n",
       "Model:                            GLM   Df Residuals:                      298\n",
       "Model Family:                 Poisson   Df Model:                            1\n",
       "Link Function:                    log   Scale:                          1.0000\n",
       "Method:                          IRLS   Log-Likelihood:                -38294.\n",
       "Date:                Wed, 16 Oct 2019   Deviance:                       74596.\n",
       "Time:                        22:57:56   Pearson chi2:                 1.08e+05\n",
       "No. Iterations:                     5   Covariance Type:             nonrobust\n",
       "================================================================================\n",
       "                   coef    std err          z      P>|z|      [0.025      0.975]\n",
       "--------------------------------------------------------------------------------\n",
       "Intercept        2.6528      0.003   1053.232      0.000       2.648       2.658\n",
       "past_arrests     0.0003   6.54e-06     47.832      0.000       0.000       0.000\n",
       "eth              2.6528      0.003   1053.232      0.000       2.648       2.658\n",
       "================================================================================\n",
       "\"\"\""
      ]
     },
     "metadata": {},
     "output_type": "display_data"
    },
    {
     "name": "stdout",
     "output_type": "stream",
     "text": [
      "hispanic Poisson\n"
     ]
    },
    {
     "data": {
      "text/html": [
       "<table class=\"simpletable\">\n",
       "<caption>Generalized Linear Model Regression Results</caption>\n",
       "<tr>\n",
       "  <th>Dep. Variable:</th>        <td>stops</td>      <th>  No. Observations:  </th>  <td>   300</td>  \n",
       "</tr>\n",
       "<tr>\n",
       "  <th>Model:</th>                 <td>GLM</td>       <th>  Df Residuals:      </th>  <td>   298</td>  \n",
       "</tr>\n",
       "<tr>\n",
       "  <th>Model Family:</th>        <td>Poisson</td>     <th>  Df Model:          </th>  <td>     1</td>  \n",
       "</tr>\n",
       "<tr>\n",
       "  <th>Link Function:</th>         <td>log</td>       <th>  Scale:             </th> <td>  1.0000</td> \n",
       "</tr>\n",
       "<tr>\n",
       "  <th>Method:</th>               <td>IRLS</td>       <th>  Log-Likelihood:    </th> <td> -24619.</td> \n",
       "</tr>\n",
       "<tr>\n",
       "  <th>Date:</th>           <td>Wed, 16 Oct 2019</td> <th>  Deviance:          </th> <td>  47389.</td> \n",
       "</tr>\n",
       "<tr>\n",
       "  <th>Time:</th>               <td>22:57:56</td>     <th>  Pearson chi2:      </th> <td>6.71e+04</td> \n",
       "</tr>\n",
       "<tr>\n",
       "  <th>No. Iterations:</th>         <td>5</td>        <th>  Covariance Type:   </th> <td>nonrobust</td>\n",
       "</tr>\n",
       "</table>\n",
       "<table class=\"simpletable\">\n",
       "<tr>\n",
       "        <td></td>          <th>coef</th>     <th>std err</th>      <th>z</th>      <th>P>|z|</th>  <th>[0.025</th>    <th>0.975]</th>  \n",
       "</tr>\n",
       "<tr>\n",
       "  <th>Intercept</th>    <td>    0.9702</td> <td>    0.001</td> <td>  818.364</td> <td> 0.000</td> <td>    0.968</td> <td>    0.973</td>\n",
       "</tr>\n",
       "<tr>\n",
       "  <th>past_arrests</th> <td>    0.0005</td> <td> 1.09e-05</td> <td>   48.600</td> <td> 0.000</td> <td>    0.001</td> <td>    0.001</td>\n",
       "</tr>\n",
       "<tr>\n",
       "  <th>eth</th>          <td>    1.9405</td> <td>    0.002</td> <td>  818.364</td> <td> 0.000</td> <td>    1.936</td> <td>    1.945</td>\n",
       "</tr>\n",
       "</table>"
      ],
      "text/plain": [
       "<class 'statsmodels.iolib.summary.Summary'>\n",
       "\"\"\"\n",
       "                 Generalized Linear Model Regression Results                  \n",
       "==============================================================================\n",
       "Dep. Variable:                  stops   No. Observations:                  300\n",
       "Model:                            GLM   Df Residuals:                      298\n",
       "Model Family:                 Poisson   Df Model:                            1\n",
       "Link Function:                    log   Scale:                          1.0000\n",
       "Method:                          IRLS   Log-Likelihood:                -24619.\n",
       "Date:                Wed, 16 Oct 2019   Deviance:                       47389.\n",
       "Time:                        22:57:56   Pearson chi2:                 6.71e+04\n",
       "No. Iterations:                     5   Covariance Type:             nonrobust\n",
       "================================================================================\n",
       "                   coef    std err          z      P>|z|      [0.025      0.975]\n",
       "--------------------------------------------------------------------------------\n",
       "Intercept        0.9702      0.001    818.364      0.000       0.968       0.973\n",
       "past_arrests     0.0005   1.09e-05     48.600      0.000       0.001       0.001\n",
       "eth              1.9405      0.002    818.364      0.000       1.936       1.945\n",
       "================================================================================\n",
       "\"\"\""
      ]
     },
     "metadata": {},
     "output_type": "display_data"
    },
    {
     "name": "stdout",
     "output_type": "stream",
     "text": [
      "white Poisson\n"
     ]
    },
    {
     "data": {
      "text/html": [
       "<table class=\"simpletable\">\n",
       "<caption>Generalized Linear Model Regression Results</caption>\n",
       "<tr>\n",
       "  <th>Dep. Variable:</th>        <td>stops</td>      <th>  No. Observations:  </th>  <td>   300</td>  \n",
       "</tr>\n",
       "<tr>\n",
       "  <th>Model:</th>                 <td>GLM</td>       <th>  Df Residuals:      </th>  <td>   298</td>  \n",
       "</tr>\n",
       "<tr>\n",
       "  <th>Model Family:</th>        <td>Poisson</td>     <th>  Df Model:          </th>  <td>     1</td>  \n",
       "</tr>\n",
       "<tr>\n",
       "  <th>Link Function:</th>         <td>log</td>       <th>  Scale:             </th> <td>  1.0000</td> \n",
       "</tr>\n",
       "<tr>\n",
       "  <th>Method:</th>               <td>IRLS</td>       <th>  Log-Likelihood:    </th> <td> -10974.</td> \n",
       "</tr>\n",
       "<tr>\n",
       "  <th>Date:</th>           <td>Wed, 16 Oct 2019</td> <th>  Deviance:          </th> <td>  20449.</td> \n",
       "</tr>\n",
       "<tr>\n",
       "  <th>Time:</th>               <td>22:57:56</td>     <th>  Pearson chi2:      </th> <td>2.99e+04</td> \n",
       "</tr>\n",
       "<tr>\n",
       "  <th>No. Iterations:</th>         <td>6</td>        <th>  Covariance Type:   </th> <td>nonrobust</td>\n",
       "</tr>\n",
       "</table>\n",
       "<table class=\"simpletable\">\n",
       "<tr>\n",
       "        <td></td>          <th>coef</th>     <th>std err</th>      <th>z</th>      <th>P>|z|</th>  <th>[0.025</th>    <th>0.975]</th>  \n",
       "</tr>\n",
       "<tr>\n",
       "  <th>Intercept</th>    <td>    0.3851</td> <td>    0.001</td> <td>  403.853</td> <td> 0.000</td> <td>    0.383</td> <td>    0.387</td>\n",
       "</tr>\n",
       "<tr>\n",
       "  <th>past_arrests</th> <td>    0.0013</td> <td> 3.42e-05</td> <td>   38.769</td> <td> 0.000</td> <td>    0.001</td> <td>    0.001</td>\n",
       "</tr>\n",
       "<tr>\n",
       "  <th>eth</th>          <td>    1.1552</td> <td>    0.003</td> <td>  403.853</td> <td> 0.000</td> <td>    1.150</td> <td>    1.161</td>\n",
       "</tr>\n",
       "</table>"
      ],
      "text/plain": [
       "<class 'statsmodels.iolib.summary.Summary'>\n",
       "\"\"\"\n",
       "                 Generalized Linear Model Regression Results                  \n",
       "==============================================================================\n",
       "Dep. Variable:                  stops   No. Observations:                  300\n",
       "Model:                            GLM   Df Residuals:                      298\n",
       "Model Family:                 Poisson   Df Model:                            1\n",
       "Link Function:                    log   Scale:                          1.0000\n",
       "Method:                          IRLS   Log-Likelihood:                -10974.\n",
       "Date:                Wed, 16 Oct 2019   Deviance:                       20449.\n",
       "Time:                        22:57:56   Pearson chi2:                 2.99e+04\n",
       "No. Iterations:                     6   Covariance Type:             nonrobust\n",
       "================================================================================\n",
       "                   coef    std err          z      P>|z|      [0.025      0.975]\n",
       "--------------------------------------------------------------------------------\n",
       "Intercept        0.3851      0.001    403.853      0.000       0.383       0.387\n",
       "past_arrests     0.0013   3.42e-05     38.769      0.000       0.001       0.001\n",
       "eth              1.1552      0.003    403.853      0.000       1.150       1.161\n",
       "================================================================================\n",
       "\"\"\""
      ]
     },
     "metadata": {},
     "output_type": "display_data"
    }
   ],
   "source": [
    "formula = 'stops ~ past_arrests + eth'\n",
    "\n",
    "eth_coef = {}\n",
    "\n",
    "for k, v in eth.items():\n",
    "    response, predictors = dmatrices(formula, df[df.eth == k], return_type='dataframe')\n",
    "\n",
    "    glm_pois = GLM(response, predictors, family=sm.families.Poisson())\n",
    "    res = glm_pois.fit()\n",
    "    print('{} Poisson'.format(v))\n",
    "    eth_coef[v] = res.params.eth\n",
    "    display(res.summary())"
   ]
  },
  {
   "cell_type": "code",
   "execution_count": 7,
   "metadata": {},
   "outputs": [
    {
     "name": "stdout",
     "output_type": "stream",
     "text": [
      "Baseline eth is black: 2.652823667397379\n",
      "hispanic - black: 0.7314825295919399\n",
      "white - black: 0.43545211046307164\n"
     ]
    }
   ],
   "source": [
    "baseline = eth_coef['black']\n",
    "print('Baseline eth is {}: {}'.format('black', baseline))\n",
    "print('hispanic - black: {}'.format(eth_coef['hispanic'] / eth_coef['black']))\n",
    "print('white - black: {}'.format(eth_coef['white'] / eth_coef['black']))"
   ]
  },
  {
   "cell_type": "markdown",
   "metadata": {},
   "source": [
    "### 5\\. Next, add the 75 precincts, and again solve the Poisson regression model."
   ]
  },
  {
   "cell_type": "code",
   "execution_count": 8,
   "metadata": {},
   "outputs": [
    {
     "data": {
      "text/html": [
       "<table class=\"simpletable\">\n",
       "<caption>Generalized Linear Model Regression Results</caption>\n",
       "<tr>\n",
       "  <th>Dep. Variable:</th>        <td>stops</td>      <th>  No. Observations:  </th>   <td>   900</td>  \n",
       "</tr>\n",
       "<tr>\n",
       "  <th>Model:</th>                 <td>GLM</td>       <th>  Df Residuals:      </th>   <td>   897</td>  \n",
       "</tr>\n",
       "<tr>\n",
       "  <th>Model Family:</th>        <td>Poisson</td>     <th>  Df Model:          </th>   <td>     2</td>  \n",
       "</tr>\n",
       "<tr>\n",
       "  <th>Link Function:</th>         <td>log</td>       <th>  Scale:             </th>  <td>  1.0000</td> \n",
       "</tr>\n",
       "<tr>\n",
       "  <th>Method:</th>               <td>IRLS</td>       <th>  Log-Likelihood:    </th>  <td> -85379.</td> \n",
       "</tr>\n",
       "<tr>\n",
       "  <th>Date:</th>           <td>Wed, 16 Oct 2019</td> <th>  Deviance:          </th> <td>1.6542e+05</td>\n",
       "</tr>\n",
       "<tr>\n",
       "  <th>Time:</th>               <td>22:58:36</td>     <th>  Pearson chi2:      </th>  <td>2.55e+05</td> \n",
       "</tr>\n",
       "<tr>\n",
       "  <th>No. Iterations:</th>         <td>6</td>        <th>  Covariance Type:   </th>  <td>nonrobust</td>\n",
       "</tr>\n",
       "</table>\n",
       "<table class=\"simpletable\">\n",
       "<tr>\n",
       "        <td></td>          <th>coef</th>     <th>std err</th>      <th>z</th>      <th>P>|z|</th>  <th>[0.025</th>    <th>0.975]</th>  \n",
       "</tr>\n",
       "<tr>\n",
       "  <th>Intercept</th>    <td>    4.4727</td> <td>    0.007</td> <td>  682.004</td> <td> 0.000</td> <td>    4.460</td> <td>    4.486</td>\n",
       "</tr>\n",
       "<tr>\n",
       "  <th>past_arrests</th> <td>    0.0007</td> <td> 5.05e-06</td> <td>  138.723</td> <td> 0.000</td> <td>    0.001</td> <td>    0.001</td>\n",
       "</tr>\n",
       "<tr>\n",
       "  <th>precint</th>      <td>    0.0072</td> <td>    0.000</td> <td>   55.249</td> <td> 0.000</td> <td>    0.007</td> <td>    0.007</td>\n",
       "</tr>\n",
       "</table>"
      ],
      "text/plain": [
       "<class 'statsmodels.iolib.summary.Summary'>\n",
       "\"\"\"\n",
       "                 Generalized Linear Model Regression Results                  \n",
       "==============================================================================\n",
       "Dep. Variable:                  stops   No. Observations:                  900\n",
       "Model:                            GLM   Df Residuals:                      897\n",
       "Model Family:                 Poisson   Df Model:                            2\n",
       "Link Function:                    log   Scale:                          1.0000\n",
       "Method:                          IRLS   Log-Likelihood:                -85379.\n",
       "Date:                Wed, 16 Oct 2019   Deviance:                   1.6542e+05\n",
       "Time:                        22:58:36   Pearson chi2:                 2.55e+05\n",
       "No. Iterations:                     6   Covariance Type:             nonrobust\n",
       "================================================================================\n",
       "                   coef    std err          z      P>|z|      [0.025      0.975]\n",
       "--------------------------------------------------------------------------------\n",
       "Intercept        4.4727      0.007    682.004      0.000       4.460       4.486\n",
       "past_arrests     0.0007   5.05e-06    138.723      0.000       0.001       0.001\n",
       "precint          0.0072      0.000     55.249      0.000       0.007       0.007\n",
       "================================================================================\n",
       "\"\"\""
      ]
     },
     "execution_count": 8,
     "metadata": {},
     "output_type": "execute_result"
    }
   ],
   "source": [
    "formula = 'stops ~ past_arrests + precint'\n",
    "\n",
    "response, predictors = dmatrices(formula, df, return_type='dataframe')\n",
    "\n",
    "glm_pois = GLM(response, predictors, family=sm.families.Poisson())\n",
    "res = glm_pois.fit()\n",
    "res.summary()"
   ]
  },
  {
   "cell_type": "markdown",
   "metadata": {},
   "source": [
    "### 6\\. Now, controlling for precincts, according to your model, what fraction fewer or more stopsdoes each ethnicity have with respect to the others, in proportion to arrest rates of theprevious year? (Again, just report with respect to a chosen ethnicity as a baseline)."
   ]
  },
  {
   "cell_type": "markdown",
   "metadata": {},
   "source": [
    "## Problem 2\n",
    "In this problem you will play with the idea of compound models. I have created a data set\n",
    "(entirely fake!) of 2012 salaries in the NBA, of 10,000 basketball players that were in high-school\n",
    "in 2011: nba cc fake data.csv. Note that the vast majority of the salaries are equal to 0 because\n",
    "the vast majority of these high-school players did not make it to the NBA and hence their NBA\n",
    "salary equals zero.\n",
    "There are three features you will use: height (in inches), average points scored during the last\n",
    "year in high school competition, and a scoring from 1-10 of the competitiveness of the league these\n",
    "players played in, with 10 being the most competitive.\n",
    "The goal is to build a model to predict the NBA salary of a high school baller.\n"
   ]
  },
  {
   "cell_type": "code",
   "execution_count": 3,
   "metadata": {},
   "outputs": [],
   "source": [
    "import numpy as np\n",
    "import pandas as pd\n",
    "from sklearn.model_selection import train_test_split\n",
    "from sklearn.linear_model import LinearRegression\n",
    "from sklearn.metrics import r2_score\n",
    "from sklearn.metrics import accuracy_score\n",
    "from sklearn.linear_model import LogisticRegression\n",
    "from sklearn.metrics import roc_auc_score"
   ]
  },
  {
   "cell_type": "code",
   "execution_count": 49,
   "metadata": {},
   "outputs": [
    {
     "data": {
      "text/html": [
       "<div>\n",
       "<style scoped>\n",
       "    .dataframe tbody tr th:only-of-type {\n",
       "        vertical-align: middle;\n",
       "    }\n",
       "\n",
       "    .dataframe tbody tr th {\n",
       "        vertical-align: top;\n",
       "    }\n",
       "\n",
       "    .dataframe thead th {\n",
       "        text-align: right;\n",
       "    }\n",
       "</style>\n",
       "<table border=\"1\" class=\"dataframe\">\n",
       "  <thead>\n",
       "    <tr style=\"text-align: right;\">\n",
       "      <th></th>\n",
       "      <th>Comp</th>\n",
       "      <th>Height</th>\n",
       "      <th>Points</th>\n",
       "      <th>Salary</th>\n",
       "    </tr>\n",
       "  </thead>\n",
       "  <tbody>\n",
       "    <tr>\n",
       "      <td>0</td>\n",
       "      <td>9.0</td>\n",
       "      <td>76.0</td>\n",
       "      <td>27.0</td>\n",
       "      <td>0.0</td>\n",
       "    </tr>\n",
       "    <tr>\n",
       "      <td>1</td>\n",
       "      <td>7.0</td>\n",
       "      <td>78.0</td>\n",
       "      <td>39.0</td>\n",
       "      <td>0.0</td>\n",
       "    </tr>\n",
       "    <tr>\n",
       "      <td>2</td>\n",
       "      <td>9.0</td>\n",
       "      <td>76.0</td>\n",
       "      <td>39.0</td>\n",
       "      <td>0.0</td>\n",
       "    </tr>\n",
       "    <tr>\n",
       "      <td>3</td>\n",
       "      <td>9.0</td>\n",
       "      <td>74.0</td>\n",
       "      <td>39.0</td>\n",
       "      <td>0.0</td>\n",
       "    </tr>\n",
       "    <tr>\n",
       "      <td>4</td>\n",
       "      <td>9.0</td>\n",
       "      <td>74.0</td>\n",
       "      <td>26.0</td>\n",
       "      <td>0.0</td>\n",
       "    </tr>\n",
       "  </tbody>\n",
       "</table>\n",
       "</div>"
      ],
      "text/plain": [
       "   Comp  Height  Points  Salary\n",
       "0   9.0    76.0    27.0     0.0\n",
       "1   7.0    78.0    39.0     0.0\n",
       "2   9.0    76.0    39.0     0.0\n",
       "3   9.0    74.0    39.0     0.0\n",
       "4   9.0    74.0    26.0     0.0"
      ]
     },
     "execution_count": 49,
     "metadata": {},
     "output_type": "execute_result"
    }
   ],
   "source": [
    "# Only 5.88% of the players make it to the NBA.\n",
    "nba_data = pd.read_csv(\"nba_cc_fake_data.csv\", index_col=0)\n",
    "nba_data.head()"
   ]
  },
  {
   "cell_type": "code",
   "execution_count": 9,
   "metadata": {},
   "outputs": [
    {
     "data": {
      "text/plain": [
       "(10000, 587)"
      ]
     },
     "execution_count": 9,
     "metadata": {},
     "output_type": "execute_result"
    }
   ],
   "source": [
    "len(nba_data), len(nba_data[nba_data['Salary']>0])"
   ]
  },
  {
   "cell_type": "code",
   "execution_count": 12,
   "metadata": {},
   "outputs": [
    {
     "data": {
      "text/plain": [
       "(176939.0, 1212013.0)"
      ]
     },
     "execution_count": 12,
     "metadata": {},
     "output_type": "execute_result"
    }
   ],
   "source": [
    "nba_data[nba_data['Salary']>0]['Salary'].min(), nba_data[nba_data['Salary']>0]['Salary'].max()"
   ]
  },
  {
   "cell_type": "markdown",
   "metadata": {},
   "source": [
    "### 1\\. Explain why linear regression is not appropriate, given the nature of the data.\n",
    "From the result shown above, we can find that there are 10000 samples in total, but only 587 of them has a value rather than 0 in the predicted column (Salary). Also, the nature of salary data should be a range of different numbers, there will be a great gap between the start (0) and start of non-zero (176939). Therefore, the biased data doesn't fit well in Linear Regression."
   ]
  },
  {
   "cell_type": "markdown",
   "metadata": {},
   "source": [
    "### 2\\. Try least squares regression, anyway. How well do you do?"
   ]
  },
  {
   "cell_type": "code",
   "execution_count": 62,
   "metadata": {},
   "outputs": [],
   "source": [
    "# Split the data into training set and testing set\n",
    "X = nba_data.values[:, :3]\n",
    "Y = nba_data.values[:, 3]\n",
    "X_train, X_test, y_train, y_test = train_test_split(X, Y, train_size=0.7, random_state=0)"
   ]
  },
  {
   "cell_type": "code",
   "execution_count": 63,
   "metadata": {},
   "outputs": [
    {
     "name": "stdout",
     "output_type": "stream",
     "text": [
      "R2 socre for Ordinary Least Squares is 0.18\n"
     ]
    }
   ],
   "source": [
    "# # Test for linear regression - ordinary least square method\n",
    "LinearReg = LinearRegression()\n",
    "LinearReg.fit(X_train, y_train)\n",
    "print(\"R2 socre for Ordinary Least Squares is %.2f\" % r2_score(y_test, LinearReg.predict(X_test)))"
   ]
  },
  {
   "cell_type": "markdown",
   "metadata": {},
   "source": [
    "As we can see from the $R^2$ score above, the performance of Least Squares Regression is almost the same as randomly guess which is bad. "
   ]
  },
  {
   "cell_type": "markdown",
   "metadata": {},
   "source": [
    "### 3\\. You will next build a composite model.\n",
    "You will first predict the probability that a player\n",
    "actually makes it to the NBA at all, and then you will build a model to predict the salary of\n",
    "a player, conditioned on the fact of making it to the NBA.<br>\n",
    "– Build a model that predicts the probability of making it to the NBA.<br>\n",
    "– Do a train-test split of 8000/2000 points, train your best model on the training set, and\n",
    "compute the AUC on the test set.<br>\n",
    "– Now, build a model to predict the salary. Note that you may wish to consider a nonlinear transformation of your data. What is your R2\n",
    "score on the test set?"
   ]
  },
  {
   "cell_type": "markdown",
   "metadata": {},
   "source": [
    "### Step 1: Build a model that predicts the probability of making it to the NBA."
   ]
  },
  {
   "cell_type": "code",
   "execution_count": 64,
   "metadata": {},
   "outputs": [],
   "source": [
    "# First use the Logistic Regression to predict probability that a player actually makes it to the NBA.\n",
    "# Before fitting into the model, transfer the predicted column into 0 and 1.\n",
    "Y_pro = np.copy(Y)\n",
    "Y_pro[np.where(Y>0)] = 1"
   ]
  },
  {
   "cell_type": "code",
   "execution_count": 66,
   "metadata": {},
   "outputs": [],
   "source": [
    "# Default value of the hyperparamenter stratify is None, which means data is split in a stratified fashion.\n",
    "X_train_pro, X_test_pro, y_train_pro, y_test_pro = train_test_split(X, Y_pro, train_size=0.8, random_state=0)"
   ]
  },
  {
   "cell_type": "code",
   "execution_count": 67,
   "metadata": {},
   "outputs": [],
   "source": [
    "def aucModel(clf, model_name, X_train=X_train_pro, y_train=y_train_pro, X_test=X_test_pro, y_test=y_test_pro):\n",
    "    clf.fit(X_train, y_train)\n",
    "    print(\"AUC score of %s\"%model_name + \" on the training set is %.4f\" % roc_auc_score(y_train, clf.predict_proba(X_train)[:, 1])) \n",
    "    print(\"AUC score of %s\"%model_name + \" on the testing set is %.4f\" % roc_auc_score(y_test, clf.predict_proba(X_test)[:, 1]))"
   ]
  },
  {
   "cell_type": "markdown",
   "metadata": {},
   "source": [
    "### Step 2: Do a train-test split of 8000/2000 points, train your best model on the training set, and compute the AUC on the test set."
   ]
  },
  {
   "cell_type": "code",
   "execution_count": 72,
   "metadata": {},
   "outputs": [
    {
     "name": "stderr",
     "output_type": "stream",
     "text": [
      "G:\\Anaconda2\\envs\\Python36\\lib\\site-packages\\sklearn\\linear_model\\logistic.py:432: FutureWarning: Default solver will be changed to 'lbfgs' in 0.22. Specify a solver to silence this warning.\n",
      "  FutureWarning)\n"
     ]
    },
    {
     "name": "stdout",
     "output_type": "stream",
     "text": [
      "AUC score of Logistic Regression on the training set is 0.9005\n",
      "AUC score of Logistic Regression on the testing set is 0.9133\n"
     ]
    }
   ],
   "source": [
    "# First, let's use a Logistic Regression model to test the performance.\n",
    "pro_LR = LogisticRegression()\n",
    "aucModel(pro_LR, \"Logistic Regression\")"
   ]
  },
  {
   "cell_type": "markdown",
   "metadata": {},
   "source": [
    "From the AUC score of Logistic Regression printed above, the performance of this model is significant."
   ]
  },
  {
   "cell_type": "code",
   "execution_count": 198,
   "metadata": {},
   "outputs": [
    {
     "name": "stdout",
     "output_type": "stream",
     "text": [
      "AUC score of Decision Tree on the training set is 0.9494\n",
      "AUC score of Decision Tree on the testing set is 0.9249\n"
     ]
    }
   ],
   "source": [
    "# We try Decision Tree here.\n",
    "from sklearn.tree import DecisionTreeClassifier\n",
    "DecTree = DecisionTreeClassifier(max_depth=6)\n",
    "aucModel(DecTree, \"Decision Tree\")"
   ]
  },
  {
   "cell_type": "code",
   "execution_count": 209,
   "metadata": {},
   "outputs": [
    {
     "name": "stdout",
     "output_type": "stream",
     "text": [
      "AUC score of Gradient Boosting Classifier on the training set is 0.9501\n",
      "AUC score of Gradient Boosting Classifier on the testing set is 0.9383\n"
     ]
    }
   ],
   "source": [
    "# This time, we try gradient boosting of trees.\n",
    "from sklearn.ensemble import GradientBoostingClassifier\n",
    "GradBoost = GradientBoostingClassifier(n_estimators=30, max_depth=4)\n",
    "aucModel(GradBoost, \"Gradient Boosting Classifier\")"
   ]
  },
  {
   "cell_type": "code",
   "execution_count": 204,
   "metadata": {},
   "outputs": [
    {
     "name": "stdout",
     "output_type": "stream",
     "text": [
      "AUC score of Random Forest on the training set is 0.9390\n",
      "AUC score of Random Forest on the testing set is 0.9380\n"
     ]
    }
   ],
   "source": [
    "# What about Random Forest which reduces the variance?\n",
    "from sklearn.ensemble import RandomForestClassifier\n",
    "RandForest = RandomForestClassifier(n_estimators=8, max_depth=5)\n",
    "aucModel(RandForest, \"Random Forest\")"
   ]
  },
  {
   "cell_type": "markdown",
   "metadata": {},
   "source": [
    "From the experiment results above, we find that among these models, Gradient Boosting Classifier and Random Forest perform best. Here, we choose Gradient Boosting Classifier as our best model."
   ]
  },
  {
   "cell_type": "markdown",
   "metadata": {},
   "source": [
    "### Step 3: Now, build a model to predict the salary. Note that you may wish to consider a nonlinear transformation of your data. What is your R2 score on the test set?"
   ]
  },
  {
   "cell_type": "code",
   "execution_count": 84,
   "metadata": {},
   "outputs": [],
   "source": [
    "# Now, build a model to predict the salary.\n",
    "# As the range of salary is very wide, first filter the data by salary > 0.\n",
    "X_salary = np.copy(X[np.where(Y>0)])\n",
    "Y_salary = np.copy(Y[np.where(Y>0)])\n",
    "X_train_sal, X_test_sal, y_train_sal, y_test_sal = train_test_split(X_salary, Y_salary, train_size=0.8, random_state=0)"
   ]
  },
  {
   "cell_type": "markdown",
   "metadata": {},
   "source": [
    "First, get some insights from origin data."
   ]
  },
  {
   "cell_type": "code",
   "execution_count": 85,
   "metadata": {},
   "outputs": [
    {
     "data": {
      "text/html": [
       "<div>\n",
       "<style scoped>\n",
       "    .dataframe tbody tr th:only-of-type {\n",
       "        vertical-align: middle;\n",
       "    }\n",
       "\n",
       "    .dataframe tbody tr th {\n",
       "        vertical-align: top;\n",
       "    }\n",
       "\n",
       "    .dataframe thead th {\n",
       "        text-align: right;\n",
       "    }\n",
       "</style>\n",
       "<table border=\"1\" class=\"dataframe\">\n",
       "  <thead>\n",
       "    <tr style=\"text-align: right;\">\n",
       "      <th></th>\n",
       "      <th>Comp</th>\n",
       "      <th>Height</th>\n",
       "      <th>Points</th>\n",
       "      <th>Salary</th>\n",
       "    </tr>\n",
       "  </thead>\n",
       "  <tbody>\n",
       "    <tr>\n",
       "      <td>Comp</td>\n",
       "      <td>1.000000</td>\n",
       "      <td>-0.060623</td>\n",
       "      <td>-0.254520</td>\n",
       "      <td>0.664805</td>\n",
       "    </tr>\n",
       "    <tr>\n",
       "      <td>Height</td>\n",
       "      <td>-0.060623</td>\n",
       "      <td>1.000000</td>\n",
       "      <td>-0.210574</td>\n",
       "      <td>0.259522</td>\n",
       "    </tr>\n",
       "    <tr>\n",
       "      <td>Points</td>\n",
       "      <td>-0.254520</td>\n",
       "      <td>-0.210574</td>\n",
       "      <td>1.000000</td>\n",
       "      <td>-0.057897</td>\n",
       "    </tr>\n",
       "    <tr>\n",
       "      <td>Salary</td>\n",
       "      <td>0.664805</td>\n",
       "      <td>0.259522</td>\n",
       "      <td>-0.057897</td>\n",
       "      <td>1.000000</td>\n",
       "    </tr>\n",
       "  </tbody>\n",
       "</table>\n",
       "</div>"
      ],
      "text/plain": [
       "            Comp    Height    Points    Salary\n",
       "Comp    1.000000 -0.060623 -0.254520  0.664805\n",
       "Height -0.060623  1.000000 -0.210574  0.259522\n",
       "Points -0.254520 -0.210574  1.000000 -0.057897\n",
       "Salary  0.664805  0.259522 -0.057897  1.000000"
      ]
     },
     "execution_count": 85,
     "metadata": {},
     "output_type": "execute_result"
    }
   ],
   "source": [
    "nba_data[nba_data['Salary']>0].corr()"
   ]
  },
  {
   "cell_type": "markdown",
   "metadata": {},
   "source": [
    "From the correlation matrix, we can find that there is no co-linearty in features."
   ]
  },
  {
   "cell_type": "code",
   "execution_count": 86,
   "metadata": {},
   "outputs": [
    {
     "data": {
      "text/plain": [
       "Comp      0.729033\n",
       "Height    0.246162\n",
       "Points   -0.065791\n",
       "dtype: float64"
      ]
     },
     "execution_count": 86,
     "metadata": {},
     "output_type": "execute_result"
    }
   ],
   "source": [
    "nba_data[nba_data['Salary']>0][['Comp', 'Height', 'Points']].corrwith(np.log(nba_data[nba_data['Salary']>0]['Salary']))"
   ]
  },
  {
   "cell_type": "code",
   "execution_count": 99,
   "metadata": {},
   "outputs": [],
   "source": [
    "def r2LR(clf, data_name, X_train, X_test, y_train, y_test):\n",
    "    clf.fit(X_train, y_train)\n",
    "    print(\"R2 score for %s\"%data_name + \" is:\")\n",
    "    print(\"Training score: %.4f\" % r2_score(y_train, clf.predict(X_train)))\n",
    "    print(\"Testing score:  %.4f\" % r2_score(y_test, clf.predict(X_test)))"
   ]
  },
  {
   "cell_type": "code",
   "execution_count": 100,
   "metadata": {},
   "outputs": [
    {
     "name": "stdout",
     "output_type": "stream",
     "text": [
      "R2 score for filtered data is:\n",
      "Training score: 0.5601\n",
      "Testing score:  0.5932\n"
     ]
    }
   ],
   "source": [
    "preLR = LinearRegression()\n",
    "r2LR(preLR, \"filtered data\", X_train_sal, X_test_sal, y_train_sal, y_test_sal)"
   ]
  },
  {
   "cell_type": "code",
   "execution_count": 91,
   "metadata": {},
   "outputs": [],
   "source": [
    "# First, try standardizing data\n",
    "from sklearn.preprocessing import StandardScaler\n",
    "x_sc = StandardScaler()\n",
    "x_sc.fit(X_train_sal)\n",
    "X_train_sal_std = x_sc.transform(X_train_sal)\n",
    "X_test_sal_std = x_sc.transform(X_test_sal)"
   ]
  },
  {
   "cell_type": "code",
   "execution_count": 103,
   "metadata": {},
   "outputs": [
    {
     "name": "stdout",
     "output_type": "stream",
     "text": [
      "R2 score for standardized data is:\n",
      "Training score: 0.5601\n",
      "Testing score:  0.5932\n"
     ]
    }
   ],
   "source": [
    "# First, try standardizing data\n",
    "from sklearn.preprocessing import StandardScaler\n",
    "x_sc = StandardScaler()\n",
    "x_sc.fit(X_train_sal)\n",
    "X_train_sal_std = x_sc.transform(X_train_sal)\n",
    "X_test_sal_std = x_sc.transform(X_test_sal)\n",
    "\n",
    "y_sc = StandardScaler()\n",
    "y_sc.fit(y_train_sal.reshape(-1, 1))\n",
    "y_train_sal_std = y_sc.transform(y_train_sal.reshape(-1, 1))\n",
    "y_test_sal_std = y_sc.transform(y_test_sal.reshape(-1, 1)).reshape(1, -1)[0]\n",
    "\n",
    "preLR_std = LinearRegression()\n",
    "r2LR(preLR_std, \"standardized data\", X_train_sal_std, X_test_sal_std, y_train_sal_std, y_test_sal_std)"
   ]
  },
  {
   "cell_type": "code",
   "execution_count": 109,
   "metadata": {},
   "outputs": [
    {
     "name": "stdout",
     "output_type": "stream",
     "text": [
      "R2 score for logged salary is:\n",
      "Training score: 0.6441\n",
      "Testing score:  0.6871\n"
     ]
    }
   ],
   "source": [
    "# It seems that standardization does not help improve the performance of predictions.\n",
    "# As the salary is in a relative high range, try log.\n",
    "y_train_log = np.log(y_train_sal)\n",
    "y_test_log = np.log(y_test_sal)\n",
    "preLR_log = LinearRegression()\n",
    "r2LR(preLR_log, \"logged salary\", X_train_sal, X_test_sal, y_train_log, y_test_log)"
   ]
  },
  {
   "cell_type": "code",
   "execution_count": 108,
   "metadata": {},
   "outputs": [
    {
     "name": "stdout",
     "output_type": "stream",
     "text": [
      "R2 score for Decision Tree Regressor (max depth = 3) with logged salary is:\n",
      "Training score: 0.6009\n",
      "Testing score:  0.6125\n",
      "R2 score for Decision Tree Regressor (max depth = 4) with logged salary is:\n",
      "Training score: 0.6516\n",
      "Testing score:  0.6007\n"
     ]
    }
   ],
   "source": [
    "from sklearn.tree import DecisionTreeRegressor\n",
    "preDTR = DecisionTreeRegressor(max_depth=3)\n",
    "r2LR(preDTR, \"Decision Tree Regressor (max depth = 3) with logged salary\", X_train_sal, X_test_sal, y_train_log, y_test_log)\n",
    "preDTR = DecisionTreeRegressor(max_depth=4)\n",
    "r2LR(preDTR, \"Decision Tree Regressor (max depth = 4) with logged salary\", X_train_sal, X_test_sal, y_train_log, y_test_log)"
   ]
  },
  {
   "cell_type": "code",
   "execution_count": 176,
   "metadata": {},
   "outputs": [
    {
     "name": "stdout",
     "output_type": "stream",
     "text": [
      "R2 score for Gradient Boosting Regressor (max depth = 3) is:\n",
      "Training score: 0.6883\n",
      "Testing score:  0.6514\n"
     ]
    }
   ],
   "source": [
    "# This time, we try gradient boosting of trees.\n",
    "# This is the best result of manually tuning.\n",
    "from sklearn.ensemble import GradientBoostingRegressor\n",
    "preGradBoost = GradientBoostingRegressor(n_estimators=30, max_depth=3)\n",
    "r2LR(preGradBoost, \"Gradient Boosting Regressor (max depth = 3)\", X_train_sal, X_test_sal, y_train_log, y_test_log)"
   ]
  },
  {
   "cell_type": "code",
   "execution_count": 174,
   "metadata": {},
   "outputs": [
    {
     "name": "stdout",
     "output_type": "stream",
     "text": [
      "R2 score for Random Forest Regressor (max depth = 5) is:\n",
      "Training score: 0.7039\n",
      "Testing score:  0.6843\n"
     ]
    }
   ],
   "source": [
    "# What about Random Forest which reduces the variance?\n",
    "from sklearn.ensemble import RandomForestRegressor\n",
    "preRandForest = RandomForestRegressor(n_estimators=8, max_depth=5)\n",
    "r2LR(preRandForest, \"Random Forest Regressor (max depth = 5)\", X_train_sal, X_test_sal, y_train_log, y_test_log)"
   ]
  },
  {
   "cell_type": "markdown",
   "metadata": {},
   "source": [
    "The best model in predicting salary is the Random Forest Regressor. <br>\n",
    "In summary, we choose the best model to predict the probability of a player that makes it to the NBA and another regression model to predict the salary if the player is making it the NBA."
   ]
  },
  {
   "cell_type": "markdown",
   "metadata": {},
   "source": [
    "### 4\\.  Test for given sample\n",
    "Compute the expected NBA salary of a high school basketball player who is 6’ 6” tall, is\n",
    "averaging 46 points per game, and is playing in the second most competitive league (comp =\n",
    "9), according to your model."
   ]
  },
  {
   "cell_type": "code",
   "execution_count": 225,
   "metadata": {},
   "outputs": [],
   "source": [
    "def predPlayer(player, prob_clf, pred_clf, threshold = 0.5):\n",
    "    # Predict the probability of this player that makes it to the NBA\n",
    "    prob = prob_clf.predict_proba(player)[0][1]\n",
    "    print((\"The data for the player is:\\nCompetitive Leagure: {} \\nHeight: {}\\nPoints: {}\").format(player[0][0], player[0][1], player[0][2]))\n",
    "    print(\"The probability of this player making it to the NBA is %f\"%prob)\n",
    "    if (prob > threshold):\n",
    "        pred_sal = pred_clf.predict(player)[0]**10\n",
    "        print(\"The predicted salary for this player is %.2f\"%pred_sal)\n",
    "    else:\n",
    "        print(\"As the player does not prefer to making it to the NBA, the salary is 0.\")"
   ]
  },
  {
   "cell_type": "code",
   "execution_count": 214,
   "metadata": {},
   "outputs": [],
   "source": [
    "player = np.array([[9, 78, 46]])"
   ]
  },
  {
   "cell_type": "code",
   "execution_count": 226,
   "metadata": {},
   "outputs": [
    {
     "name": "stdout",
     "output_type": "stream",
     "text": [
      "The data for the player is:\n",
      "Competitive Leagure: 9 \n",
      "Height: 78\n",
      "Points: 46\n",
      "The probability of this player making it to the NBA is 0.068136\n",
      "As the player does not prefer to making it to the NBA, the salary is 0.\n"
     ]
    }
   ],
   "source": [
    "predPlayer(player, GradBoost, preRandForest)"
   ]
  },
  {
   "cell_type": "code",
   "execution_count": null,
   "metadata": {},
   "outputs": [],
   "source": []
  }
 ],
 "metadata": {
  "kernelspec": {
   "display_name": "Python 3",
   "language": "python",
   "name": "python3"
  },
  "language_info": {
   "codemirror_mode": {
    "name": "ipython",
    "version": 3
   },
   "file_extension": ".py",
   "mimetype": "text/x-python",
   "name": "python",
   "nbconvert_exporter": "python",
   "pygments_lexer": "ipython3",
   "version": "3.7.3"
  }
 },
 "nbformat": 4,
 "nbformat_minor": 2
}
